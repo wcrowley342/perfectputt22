{
  "nbformat": 4,
  "nbformat_minor": 0,
  "metadata": {
    "colab": {
      "name": "putt_perfect.ipynb",
      "provenance": [],
      "authorship_tag": "ABX9TyP8YDWCd76e9f7Ac/38cHCC",
      "include_colab_link": true
    },
    "kernelspec": {
      "name": "python3",
      "display_name": "Python 3"
    },
    "language_info": {
      "name": "python"
    }
  },
  "cells": [
    {
      "cell_type": "markdown",
      "metadata": {
        "id": "view-in-github",
        "colab_type": "text"
      },
      "source": [
        "<a href=\"https://colab.research.google.com/github/wcrowley342/puttperfect22/blob/main/putt_perfect.ipynb\" target=\"_parent\"><img src=\"https://colab.research.google.com/assets/colab-badge.svg\" alt=\"Open In Colab\"/></a>"
      ]
    },
    {
      "cell_type": "code",
      "execution_count": 10,
      "metadata": {
        "id": "TfRO9iRCbPSB"
      },
      "outputs": [],
      "source": [
        "import pandas as pd\n",
        "import numpy as np\n",
        "\n",
        "data = pd.read_csv('https://raw.githubusercontent.com/wcrowley342/puttperfect22/main/puttperfectdata.csv')"
      ]
    },
    {
      "cell_type": "code",
      "source": [
        "# show dataframe\n",
        "print(data)"
      ],
      "metadata": {
        "colab": {
          "base_uri": "https://localhost:8080/"
        },
        "id": "iU6PZgSjfYRN",
        "outputId": "7a8e02f6-5e45-4824-e05a-8db39c435b7f"
      },
      "execution_count": 11,
      "outputs": [
        {
          "output_type": "stream",
          "name": "stdout",
          "text": [
            "               Player  Moneyperevent  Sgtotal  Sgputting  SGapproach  \\\n",
            "0        Rory McIlroy       633428.0     2.30       0.60        0.66   \n",
            "1       Cameron Smith       615438.0     1.65       0.57        0.92   \n",
            "2   Scottie Scheffler       598950.0     1.82       0.35        0.84   \n",
            "3     Patrick Cantlay       390318.0     1.74       0.58        0.32   \n",
            "4    Matt Fitzpatrick       381998.0     2.27       0.39        0.62   \n",
            "..                ...            ...      ...        ...         ...   \n",
            "85          Danny Lee        60283.0    -0.53      -0.31        0.03   \n",
            "86         Brandon Wu        58901.0    -0.10      -0.07        0.05   \n",
            "87           C.T. Pan        57098.0     0.37       0.06        0.23   \n",
            "88    Matthew NeSmith        57005.0     0.43      -0.17        0.44   \n",
            "89       Alex Smalley        56556.0     0.19      -0.25        0.16   \n",
            "\n",
            "    Sgaroundgreen  Sgtee  \n",
            "0            0.21   0.83  \n",
            "1            0.31  -0.15  \n",
            "2            0.34   0.30  \n",
            "3            0.29   0.54  \n",
            "4            0.56   0.69  \n",
            "..            ...    ...  \n",
            "85          -0.35   0.11  \n",
            "86          -0.24   0.16  \n",
            "87           0.11  -0.03  \n",
            "88          -0.01   0.17  \n",
            "89          -0.04   0.32  \n",
            "\n",
            "[90 rows x 7 columns]\n"
          ]
        }
      ]
    },
    {
      "cell_type": "code",
      "source": [
        "data.head()"
      ],
      "metadata": {
        "colab": {
          "base_uri": "https://localhost:8080/",
          "height": 206
        },
        "id": "-LLUY1Qr0oSz",
        "outputId": "a1d515bf-ebf6-406d-d79c-ced76f551252"
      },
      "execution_count": 12,
      "outputs": [
        {
          "output_type": "execute_result",
          "data": {
            "text/plain": [
              "              Player  Moneyperevent  Sgtotal  Sgputting  SGapproach  \\\n",
              "0       Rory McIlroy       633428.0     2.30       0.60        0.66   \n",
              "1      Cameron Smith       615438.0     1.65       0.57        0.92   \n",
              "2  Scottie Scheffler       598950.0     1.82       0.35        0.84   \n",
              "3    Patrick Cantlay       390318.0     1.74       0.58        0.32   \n",
              "4   Matt Fitzpatrick       381998.0     2.27       0.39        0.62   \n",
              "\n",
              "   Sgaroundgreen  Sgtee  \n",
              "0           0.21   0.83  \n",
              "1           0.31  -0.15  \n",
              "2           0.34   0.30  \n",
              "3           0.29   0.54  \n",
              "4           0.56   0.69  "
            ],
            "text/html": [
              "\n",
              "  <div id=\"df-3dfa8cea-2947-44d3-bc77-986badd5fd3a\">\n",
              "    <div class=\"colab-df-container\">\n",
              "      <div>\n",
              "<style scoped>\n",
              "    .dataframe tbody tr th:only-of-type {\n",
              "        vertical-align: middle;\n",
              "    }\n",
              "\n",
              "    .dataframe tbody tr th {\n",
              "        vertical-align: top;\n",
              "    }\n",
              "\n",
              "    .dataframe thead th {\n",
              "        text-align: right;\n",
              "    }\n",
              "</style>\n",
              "<table border=\"1\" class=\"dataframe\">\n",
              "  <thead>\n",
              "    <tr style=\"text-align: right;\">\n",
              "      <th></th>\n",
              "      <th>Player</th>\n",
              "      <th>Moneyperevent</th>\n",
              "      <th>Sgtotal</th>\n",
              "      <th>Sgputting</th>\n",
              "      <th>SGapproach</th>\n",
              "      <th>Sgaroundgreen</th>\n",
              "      <th>Sgtee</th>\n",
              "    </tr>\n",
              "  </thead>\n",
              "  <tbody>\n",
              "    <tr>\n",
              "      <th>0</th>\n",
              "      <td>Rory McIlroy</td>\n",
              "      <td>633428.0</td>\n",
              "      <td>2.30</td>\n",
              "      <td>0.60</td>\n",
              "      <td>0.66</td>\n",
              "      <td>0.21</td>\n",
              "      <td>0.83</td>\n",
              "    </tr>\n",
              "    <tr>\n",
              "      <th>1</th>\n",
              "      <td>Cameron Smith</td>\n",
              "      <td>615438.0</td>\n",
              "      <td>1.65</td>\n",
              "      <td>0.57</td>\n",
              "      <td>0.92</td>\n",
              "      <td>0.31</td>\n",
              "      <td>-0.15</td>\n",
              "    </tr>\n",
              "    <tr>\n",
              "      <th>2</th>\n",
              "      <td>Scottie Scheffler</td>\n",
              "      <td>598950.0</td>\n",
              "      <td>1.82</td>\n",
              "      <td>0.35</td>\n",
              "      <td>0.84</td>\n",
              "      <td>0.34</td>\n",
              "      <td>0.30</td>\n",
              "    </tr>\n",
              "    <tr>\n",
              "      <th>3</th>\n",
              "      <td>Patrick Cantlay</td>\n",
              "      <td>390318.0</td>\n",
              "      <td>1.74</td>\n",
              "      <td>0.58</td>\n",
              "      <td>0.32</td>\n",
              "      <td>0.29</td>\n",
              "      <td>0.54</td>\n",
              "    </tr>\n",
              "    <tr>\n",
              "      <th>4</th>\n",
              "      <td>Matt Fitzpatrick</td>\n",
              "      <td>381998.0</td>\n",
              "      <td>2.27</td>\n",
              "      <td>0.39</td>\n",
              "      <td>0.62</td>\n",
              "      <td>0.56</td>\n",
              "      <td>0.69</td>\n",
              "    </tr>\n",
              "  </tbody>\n",
              "</table>\n",
              "</div>\n",
              "      <button class=\"colab-df-convert\" onclick=\"convertToInteractive('df-3dfa8cea-2947-44d3-bc77-986badd5fd3a')\"\n",
              "              title=\"Convert this dataframe to an interactive table.\"\n",
              "              style=\"display:none;\">\n",
              "        \n",
              "  <svg xmlns=\"http://www.w3.org/2000/svg\" height=\"24px\"viewBox=\"0 0 24 24\"\n",
              "       width=\"24px\">\n",
              "    <path d=\"M0 0h24v24H0V0z\" fill=\"none\"/>\n",
              "    <path d=\"M18.56 5.44l.94 2.06.94-2.06 2.06-.94-2.06-.94-.94-2.06-.94 2.06-2.06.94zm-11 1L8.5 8.5l.94-2.06 2.06-.94-2.06-.94L8.5 2.5l-.94 2.06-2.06.94zm10 10l.94 2.06.94-2.06 2.06-.94-2.06-.94-.94-2.06-.94 2.06-2.06.94z\"/><path d=\"M17.41 7.96l-1.37-1.37c-.4-.4-.92-.59-1.43-.59-.52 0-1.04.2-1.43.59L10.3 9.45l-7.72 7.72c-.78.78-.78 2.05 0 2.83L4 21.41c.39.39.9.59 1.41.59.51 0 1.02-.2 1.41-.59l7.78-7.78 2.81-2.81c.8-.78.8-2.07 0-2.86zM5.41 20L4 18.59l7.72-7.72 1.47 1.35L5.41 20z\"/>\n",
              "  </svg>\n",
              "      </button>\n",
              "      \n",
              "  <style>\n",
              "    .colab-df-container {\n",
              "      display:flex;\n",
              "      flex-wrap:wrap;\n",
              "      gap: 12px;\n",
              "    }\n",
              "\n",
              "    .colab-df-convert {\n",
              "      background-color: #E8F0FE;\n",
              "      border: none;\n",
              "      border-radius: 50%;\n",
              "      cursor: pointer;\n",
              "      display: none;\n",
              "      fill: #1967D2;\n",
              "      height: 32px;\n",
              "      padding: 0 0 0 0;\n",
              "      width: 32px;\n",
              "    }\n",
              "\n",
              "    .colab-df-convert:hover {\n",
              "      background-color: #E2EBFA;\n",
              "      box-shadow: 0px 1px 2px rgba(60, 64, 67, 0.3), 0px 1px 3px 1px rgba(60, 64, 67, 0.15);\n",
              "      fill: #174EA6;\n",
              "    }\n",
              "\n",
              "    [theme=dark] .colab-df-convert {\n",
              "      background-color: #3B4455;\n",
              "      fill: #D2E3FC;\n",
              "    }\n",
              "\n",
              "    [theme=dark] .colab-df-convert:hover {\n",
              "      background-color: #434B5C;\n",
              "      box-shadow: 0px 1px 3px 1px rgba(0, 0, 0, 0.15);\n",
              "      filter: drop-shadow(0px 1px 2px rgba(0, 0, 0, 0.3));\n",
              "      fill: #FFFFFF;\n",
              "    }\n",
              "  </style>\n",
              "\n",
              "      <script>\n",
              "        const buttonEl =\n",
              "          document.querySelector('#df-3dfa8cea-2947-44d3-bc77-986badd5fd3a button.colab-df-convert');\n",
              "        buttonEl.style.display =\n",
              "          google.colab.kernel.accessAllowed ? 'block' : 'none';\n",
              "\n",
              "        async function convertToInteractive(key) {\n",
              "          const element = document.querySelector('#df-3dfa8cea-2947-44d3-bc77-986badd5fd3a');\n",
              "          const dataTable =\n",
              "            await google.colab.kernel.invokeFunction('convertToInteractive',\n",
              "                                                     [key], {});\n",
              "          if (!dataTable) return;\n",
              "\n",
              "          const docLinkHtml = 'Like what you see? Visit the ' +\n",
              "            '<a target=\"_blank\" href=https://colab.research.google.com/notebooks/data_table.ipynb>data table notebook</a>'\n",
              "            + ' to learn more about interactive tables.';\n",
              "          element.innerHTML = '';\n",
              "          dataTable['output_type'] = 'display_data';\n",
              "          await google.colab.output.renderOutput(dataTable, element);\n",
              "          const docLink = document.createElement('div');\n",
              "          docLink.innerHTML = docLinkHtml;\n",
              "          element.appendChild(docLink);\n",
              "        }\n",
              "      </script>\n",
              "    </div>\n",
              "  </div>\n",
              "  "
            ]
          },
          "metadata": {},
          "execution_count": 12
        }
      ]
    },
    {
      "cell_type": "code",
      "source": [
        "# use corr() method on dataframe to\n",
        "# make correlation matrix\n",
        "matrix = data.corr()\n",
        " \n",
        "# print correlation matrix\n",
        "print(\"Correlation Matrix is : \")\n",
        "print(matrix)"
      ],
      "metadata": {
        "colab": {
          "base_uri": "https://localhost:8080/"
        },
        "id": "p43dNAJ_fdee",
        "outputId": "7fa75f23-bad1-4a24-acce-95b34cae152e"
      },
      "execution_count": 13,
      "outputs": [
        {
          "output_type": "stream",
          "name": "stdout",
          "text": [
            "Correlation Matrix is : \n",
            "               Moneyperevent   Sgtotal  Sgputting  SGapproach  Sgaroundgreen  \\\n",
            "Moneyperevent       1.000000  0.761113   0.297543    0.521312       0.252981   \n",
            "Sgtotal             0.761113  1.000000   0.280461    0.653280       0.443444   \n",
            "Sgputting           0.297543  0.280461   1.000000   -0.271392       0.192548   \n",
            "SGapproach          0.521312  0.653280  -0.271392    1.000000      -0.002966   \n",
            "Sgaroundgreen       0.252981  0.443444   0.192548   -0.002966       1.000000   \n",
            "Sgtee               0.373413  0.550966  -0.270885    0.353729      -0.097514   \n",
            "\n",
            "                  Sgtee  \n",
            "Moneyperevent  0.373413  \n",
            "Sgtotal        0.550966  \n",
            "Sgputting     -0.270885  \n",
            "SGapproach     0.353729  \n",
            "Sgaroundgreen -0.097514  \n",
            "Sgtee          1.000000  \n"
          ]
        }
      ]
    },
    {
      "cell_type": "code",
      "source": [
        "import seaborn as sn"
      ],
      "metadata": {
        "id": "3g7xI8S4foC4"
      },
      "execution_count": 14,
      "outputs": []
    },
    {
      "cell_type": "code",
      "source": [
        "corrMatrix = data.corr()\n",
        "sn.heatmap(corrMatrix, annot=True)\n",
        "plt.show()"
      ],
      "metadata": {
        "colab": {
          "base_uri": "https://localhost:8080/",
          "height": 521
        },
        "id": "GCnlWRFFfk0w",
        "outputId": "50ff2f08-0316-41dd-cf53-a5b41a4f7231"
      },
      "execution_count": 15,
      "outputs": [
        {
          "output_type": "error",
          "ename": "NameError",
          "evalue": "ignored",
          "traceback": [
            "\u001b[0;31m---------------------------------------------------------------------------\u001b[0m",
            "\u001b[0;31mNameError\u001b[0m                                 Traceback (most recent call last)",
            "\u001b[0;32m<ipython-input-15-27464800a454>\u001b[0m in \u001b[0;36m<module>\u001b[0;34m\u001b[0m\n\u001b[1;32m      1\u001b[0m \u001b[0mcorrMatrix\u001b[0m \u001b[0;34m=\u001b[0m \u001b[0mdata\u001b[0m\u001b[0;34m.\u001b[0m\u001b[0mcorr\u001b[0m\u001b[0;34m(\u001b[0m\u001b[0;34m)\u001b[0m\u001b[0;34m\u001b[0m\u001b[0;34m\u001b[0m\u001b[0m\n\u001b[1;32m      2\u001b[0m \u001b[0msn\u001b[0m\u001b[0;34m.\u001b[0m\u001b[0mheatmap\u001b[0m\u001b[0;34m(\u001b[0m\u001b[0mcorrMatrix\u001b[0m\u001b[0;34m,\u001b[0m \u001b[0mannot\u001b[0m\u001b[0;34m=\u001b[0m\u001b[0;32mTrue\u001b[0m\u001b[0;34m)\u001b[0m\u001b[0;34m\u001b[0m\u001b[0;34m\u001b[0m\u001b[0m\n\u001b[0;32m----> 3\u001b[0;31m \u001b[0mplt\u001b[0m\u001b[0;34m.\u001b[0m\u001b[0mshow\u001b[0m\u001b[0;34m(\u001b[0m\u001b[0;34m)\u001b[0m\u001b[0;34m\u001b[0m\u001b[0;34m\u001b[0m\u001b[0m\n\u001b[0m",
            "\u001b[0;31mNameError\u001b[0m: name 'plt' is not defined"
          ]
        },
        {
          "output_type": "display_data",
          "data": {
            "text/plain": [
              "<Figure size 432x288 with 2 Axes>"
            ],
            "image/png": "[encoded data removed]"
          },
          "metadata": {
            "needs_background": "light"
          }
        }
      ]
    }
  ]
}